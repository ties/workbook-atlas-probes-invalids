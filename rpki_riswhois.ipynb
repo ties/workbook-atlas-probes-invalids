{
 "cells": [
  {
   "cell_type": "code",
   "execution_count": 1,
   "id": "precise-commons",
   "metadata": {},
   "outputs": [],
   "source": [
    "import bz2\n",
    "import json\n",
    "import io\n",
    "import ipaddress\n",
    "import logging\n",
    "\n",
    "import pandas as pd\n",
    "import pytricia\n",
    "import requests\n",
    "\n",
    "from typing import NamedTuple, Optional, Set\n",
    "\n",
    "from pandas.api.types import CategoricalDtype\n",
    "from pandas.core.series import Series\n",
    "\n",
    "LOG = logging.getLogger(__name__)\n",
    "LOG.setLevel(logging.DEBUG)"
   ]
  },
  {
   "cell_type": "code",
   "execution_count": 2,
   "id": "alive-lunch",
   "metadata": {},
   "outputs": [],
   "source": [
    "class RouteOriginAuthorization(NamedTuple):\n",
    "    asn: int\n",
    "    prefix: str\n",
    "    max_length: int\n",
    "\n",
    "    prefix_length: Optional[int] = None"
   ]
  },
  {
   "cell_type": "code",
   "execution_count": 3,
   "id": "experienced-closing",
   "metadata": {},
   "outputs": [],
   "source": [
    "# https://www.ris.ripe.net/dumps/riswhoisdump.IPv4.gz\n",
    "# https://www.ris.ripe.net/dumps/riswhoisdump.IPv6.gz\n",
    "ris_v4_gz = requests.get(\"https://www.ris.ripe.net/dumps/riswhoisdump.IPv4.gz\").content\n",
    "ris_v6_gz = requests.get(\"https://www.ris.ripe.net/dumps/riswhoisdump.IPv6.gz\").content\n",
    "\n",
    "def read_ris_dump(url: str) -> pd.DataFrame:\n",
    "    # Get file, accept that there are comment lines in there\n",
    "    df = pd.read_csv(url,\n",
    "                     compression='gzip',\n",
    "                     sep=\"\\t\",\n",
    "                     names=[\"origin\", \"prefix\", \"seen_by_peers\"]\n",
    "    )\n",
    "    \n",
    "    if df.origin.str.startswith('{').any():\n",
    "        LOG.error(\"RIS dump contains row(s) with AS_SET! These will never be RPKI valid (https://tools.ietf.org/html/rfc6907#section-7.1.8)\")\n",
    "    # select the rows that do not have the '%' prefix\n",
    "    df = df[~df.origin.str.startswith('%')].copy()\n",
    "    \n",
    "    # separate prefix length\n",
    "    df['prefix_length'] = df.prefix.map(lambda p: ipaddress.ip_network(p).prefixlen)\n",
    "    \n",
    "    return df"
   ]
  },
  {
   "cell_type": "code",
   "execution_count": 4,
   "id": "guided-czech",
   "metadata": {},
   "outputs": [],
   "source": [
    "# Atlas Probe archive\n",
    "atlas_probes_bz2 = requests.get(\"https://ftp.ripe.net/ripe/atlas/probes/archive/meta-latest\").content\n",
    "atlas_probes = pd.DataFrame(json.loads(bz2.decompress(atlas_probes_bz2))['objects'])"
   ]
  },
  {
   "cell_type": "code",
   "execution_count": 5,
   "id": "confirmed-wages",
   "metadata": {},
   "outputs": [
    {
     "name": "stderr",
     "output_type": "stream",
     "text": [
      "RIS dump contains row(s) with AS_SET! These will never be RPKI valid (https://tools.ietf.org/html/rfc6907#section-7.1.8)\n",
      "RIS dump contains row(s) with AS_SET! These will never be RPKI valid (https://tools.ietf.org/html/rfc6907#section-7.1.8)\n"
     ]
    }
   ],
   "source": [
    "ris_v4 = read_ris_dump(\"https://www.ris.ripe.net/dumps/riswhoisdump.IPv4.gz\")\n",
    "ris_v6 = read_ris_dump(\"https://www.ris.ripe.net/dumps/riswhoisdump.IPv6.gz\")"
   ]
  },
  {
   "cell_type": "code",
   "execution_count": 6,
   "id": "adopted-somewhere",
   "metadata": {},
   "outputs": [],
   "source": [
    "# Get RPKI valids\n",
    "validated_objects = requests.get(\"https://rpki-validator.ripe.net/api/objects/validated\").json()\n",
    "rpki_roas = pd.DataFrame(validated_objects['data']['roas'])\n",
    "# And add address family\n",
    "rpki_roas['af'] = af = rpki_roas.prefix.map(lambda p: ipaddress.ip_network(p).version)\n",
    "# And prefix length (to chart later)\n",
    "rpki_roas['prefix_length'] = af = rpki_roas.prefix.map(lambda p: ipaddress.ip_network(p).prefixlen)"
   ]
  },
  {
   "cell_type": "code",
   "execution_count": 7,
   "id": "derived-shopper",
   "metadata": {},
   "outputs": [],
   "source": [
    "rpki_roas_v4 = rpki_roas[rpki_roas.af == 4]\n",
    "rpki_roas_v6 = rpki_roas[rpki_roas.af == 6]"
   ]
  },
  {
   "cell_type": "code",
   "execution_count": 8,
   "id": "centered-microphone",
   "metadata": {},
   "outputs": [],
   "source": [
    "class RouteOriginAuthorizationLookup:\n",
    "    \"\"\"\n",
    "    Build patricia tries for storing ROAs.\n",
    "\n",
    "    The entries of the patricia tries will be a set of RouteOriginAuthorization that are an\n",
    "    exact match for the prefix of a key.\n",
    "\n",
    "    To lookup all applicable ROAs for a value, first retrieve the most specific entry,\n",
    "    followed by looking up the parents.\n",
    "    \"\"\"\n",
    "    trie: pytricia.PyTricia\n",
    "        \n",
    "    def __init__(self, data: pd.DataFrame) -> None:\n",
    "        assert data.af.nunique() == 1\n",
    "        length = 128 if data.af.unique()[0] == 6 else 32\n",
    "        \n",
    "        self.trie = pytricia.PyTricia(length)\n",
    "        data.apply(self.__build_trie, axis=1)\n",
    "        \n",
    "    def __build_trie(self, row: Series) -> None:\n",
    "        if not self.trie.has_key(row.prefix):\n",
    "            # Add entry\n",
    "            self.trie[row.prefix] = set()\n",
    "            \n",
    "        self.trie[row.prefix].add(\n",
    "            RouteOriginAuthorization(row.asn, row.prefix, row.maxLength, row.prefix_length)\n",
    "        )\n",
    "        \n",
    "    def lookup_roas(self, prefix) -> Set[RouteOriginAuthorization]:\n",
    "        res = set()\n",
    "        \n",
    "        try:\n",
    "            last_prefix = prefix\n",
    "            while last_prefix is not None:\n",
    "                res.update(self.trie[last_prefix])\n",
    "                last_prefix = self.trie.parent(last_prefix)\n",
    "        except KeyError:\n",
    "            # Either the initial value was not found, or we traversed parents\n",
    "            # until we did not find another.\n",
    "            pass\n",
    "        \n",
    "        return res\n",
    "\n",
    "roa_lookup_v4 = RouteOriginAuthorizationLookup(rpki_roas_v4)\n",
    "roa_lookup_v6 = RouteOriginAuthorizationLookup(rpki_roas_v6)"
   ]
  },
  {
   "cell_type": "code",
   "execution_count": 9,
   "id": "driving-implement",
   "metadata": {},
   "outputs": [
    {
     "data": {
      "text/plain": [
       "{RouteOriginAuthorization(asn='9583', prefix='1.6.108.0/22', max_length=22, prefix_length=22),\n",
       " RouteOriginAuthorization(asn='9583', prefix='1.6.108.0/24', max_length=24, prefix_length=24)}"
      ]
     },
     "execution_count": 9,
     "metadata": {},
     "output_type": "execute_result"
    }
   ],
   "source": [
    "# This prefix has a ROA for a less specific\n",
    "roa_lookup_v4.lookup_roas('1.6.108.0/24')"
   ]
  },
  {
   "cell_type": "markdown",
   "id": "stable-jurisdiction",
   "metadata": {},
   "source": [
    "### Data has been loaded\n",
    "\n",
    "Spot-check a sample from the roas in the prefix tries for both address families. Filter so it is a sample not from the most-common prefix length.\n",
    "\n",
    "Starting with IPv4:"
   ]
  },
  {
   "cell_type": "code",
   "execution_count": 10,
   "id": "instant-awareness",
   "metadata": {},
   "outputs": [
    {
     "data": {
      "text/html": [
       "<div>\n",
       "<style scoped>\n",
       "    .dataframe tbody tr th:only-of-type {\n",
       "        vertical-align: middle;\n",
       "    }\n",
       "\n",
       "    .dataframe tbody tr th {\n",
       "        vertical-align: top;\n",
       "    }\n",
       "\n",
       "    .dataframe thead th {\n",
       "        text-align: right;\n",
       "    }\n",
       "</style>\n",
       "<table border=\"1\" class=\"dataframe\">\n",
       "  <thead>\n",
       "    <tr style=\"text-align: right;\">\n",
       "      <th></th>\n",
       "      <th>maxLength</th>\n",
       "      <th>af</th>\n",
       "      <th>prefix_length</th>\n",
       "    </tr>\n",
       "  </thead>\n",
       "  <tbody>\n",
       "    <tr>\n",
       "      <th>count</th>\n",
       "      <td>187693.000000</td>\n",
       "      <td>187693.0</td>\n",
       "      <td>187693.000000</td>\n",
       "    </tr>\n",
       "    <tr>\n",
       "      <th>mean</th>\n",
       "      <td>23.278726</td>\n",
       "      <td>4.0</td>\n",
       "      <td>22.620918</td>\n",
       "    </tr>\n",
       "    <tr>\n",
       "      <th>std</th>\n",
       "      <td>2.108451</td>\n",
       "      <td>0.0</td>\n",
       "      <td>2.248629</td>\n",
       "    </tr>\n",
       "    <tr>\n",
       "      <th>min</th>\n",
       "      <td>10.000000</td>\n",
       "      <td>4.0</td>\n",
       "      <td>9.000000</td>\n",
       "    </tr>\n",
       "    <tr>\n",
       "      <th>25%</th>\n",
       "      <td>23.000000</td>\n",
       "      <td>4.0</td>\n",
       "      <td>22.000000</td>\n",
       "    </tr>\n",
       "    <tr>\n",
       "      <th>50%</th>\n",
       "      <td>24.000000</td>\n",
       "      <td>4.0</td>\n",
       "      <td>24.000000</td>\n",
       "    </tr>\n",
       "    <tr>\n",
       "      <th>75%</th>\n",
       "      <td>24.000000</td>\n",
       "      <td>4.0</td>\n",
       "      <td>24.000000</td>\n",
       "    </tr>\n",
       "    <tr>\n",
       "      <th>max</th>\n",
       "      <td>32.000000</td>\n",
       "      <td>4.0</td>\n",
       "      <td>32.000000</td>\n",
       "    </tr>\n",
       "  </tbody>\n",
       "</table>\n",
       "</div>"
      ],
      "text/plain": [
       "           maxLength        af  prefix_length\n",
       "count  187693.000000  187693.0  187693.000000\n",
       "mean       23.278726       4.0      22.620918\n",
       "std         2.108451       0.0       2.248629\n",
       "min        10.000000       4.0       9.000000\n",
       "25%        23.000000       4.0      22.000000\n",
       "50%        24.000000       4.0      24.000000\n",
       "75%        24.000000       4.0      24.000000\n",
       "max        32.000000       4.0      32.000000"
      ]
     },
     "execution_count": 10,
     "metadata": {},
     "output_type": "execute_result"
    }
   ],
   "source": [
    "rpki_roas_v4.describe()"
   ]
  },
  {
   "cell_type": "code",
   "execution_count": 11,
   "id": "copyrighted-assembly",
   "metadata": {},
   "outputs": [
    {
     "data": {
      "text/html": [
       "<div>\n",
       "<style scoped>\n",
       "    .dataframe tbody tr th:only-of-type {\n",
       "        vertical-align: middle;\n",
       "    }\n",
       "\n",
       "    .dataframe tbody tr th {\n",
       "        vertical-align: top;\n",
       "    }\n",
       "\n",
       "    .dataframe thead th {\n",
       "        text-align: right;\n",
       "    }\n",
       "</style>\n",
       "<table border=\"1\" class=\"dataframe\">\n",
       "  <thead>\n",
       "    <tr style=\"text-align: right;\">\n",
       "      <th></th>\n",
       "      <th>index</th>\n",
       "      <th>asn</th>\n",
       "      <th>prefix</th>\n",
       "      <th>maxLength</th>\n",
       "      <th>af</th>\n",
       "      <th>prefix_length</th>\n",
       "    </tr>\n",
       "  </thead>\n",
       "  <tbody>\n",
       "    <tr>\n",
       "      <th>0</th>\n",
       "      <td>88549</td>\n",
       "      <td>37340</td>\n",
       "      <td>197.242.108.0/23</td>\n",
       "      <td>23</td>\n",
       "      <td>4</td>\n",
       "      <td>23</td>\n",
       "    </tr>\n",
       "    <tr>\n",
       "      <th>1</th>\n",
       "      <td>149315</td>\n",
       "      <td>31638</td>\n",
       "      <td>93.115.170.0/23</td>\n",
       "      <td>23</td>\n",
       "      <td>4</td>\n",
       "      <td>23</td>\n",
       "    </tr>\n",
       "    <tr>\n",
       "      <th>2</th>\n",
       "      <td>182703</td>\n",
       "      <td>51167</td>\n",
       "      <td>144.91.86.0/23</td>\n",
       "      <td>32</td>\n",
       "      <td>4</td>\n",
       "      <td>23</td>\n",
       "    </tr>\n",
       "    <tr>\n",
       "      <th>3</th>\n",
       "      <td>180731</td>\n",
       "      <td>50563</td>\n",
       "      <td>45.8.76.0/23</td>\n",
       "      <td>23</td>\n",
       "      <td>4</td>\n",
       "      <td>23</td>\n",
       "    </tr>\n",
       "    <tr>\n",
       "      <th>4</th>\n",
       "      <td>103743</td>\n",
       "      <td>1199</td>\n",
       "      <td>145.102.136.0/22</td>\n",
       "      <td>22</td>\n",
       "      <td>4</td>\n",
       "      <td>22</td>\n",
       "    </tr>\n",
       "  </tbody>\n",
       "</table>\n",
       "</div>"
      ],
      "text/plain": [
       "    index    asn            prefix  maxLength  af  prefix_length\n",
       "0   88549  37340  197.242.108.0/23         23   4             23\n",
       "1  149315  31638   93.115.170.0/23         23   4             23\n",
       "2  182703  51167    144.91.86.0/23         32   4             23\n",
       "3  180731  50563      45.8.76.0/23         23   4             23\n",
       "4  103743   1199  145.102.136.0/22         22   4             22"
      ]
     },
     "metadata": {},
     "output_type": "display_data"
    }
   ],
   "source": [
    "sample = rpki_roas_v4[rpki_roas_v4.prefix_length != 24].sample(5).reset_index()\n",
    "display(sample)"
   ]
  },
  {
   "cell_type": "code",
   "execution_count": 12,
   "id": "micro-accommodation",
   "metadata": {},
   "outputs": [
    {
     "data": {
      "text/plain": [
       "{RouteOriginAuthorization(asn='37340', prefix='197.242.108.0/23', max_length=23, prefix_length=23)}"
      ]
     },
     "execution_count": 12,
     "metadata": {},
     "output_type": "execute_result"
    }
   ],
   "source": [
    "roa_lookup_v4.trie[sample.prefix[0]]"
   ]
  },
  {
   "cell_type": "markdown",
   "id": "assisted-warning",
   "metadata": {},
   "source": [
    "The printed entry should match the `prefix_length` in the top row of the table."
   ]
  },
  {
   "cell_type": "code",
   "execution_count": 13,
   "id": "placed-punishment",
   "metadata": {},
   "outputs": [
    {
     "data": {
      "text/plain": [
       "<AxesSubplot:ylabel='Frequency'>"
      ]
     },
     "execution_count": 13,
     "metadata": {},
     "output_type": "execute_result"
    },
    {
     "data": {
      "image/png": "[encoded data removed]",
      "text/plain": [
       "<Figure size 432x288 with 1 Axes>"
      ]
     },
     "metadata": {
      "needs_background": "light"
     },
     "output_type": "display_data"
    }
   ],
   "source": [
    "rpki_roas_v4[['maxLength', 'prefix_length']].plot.hist(\n",
    "    by='maxLength',\n",
    "    bins=16,\n",
    "    alpha=0.5\n",
    ")"
   ]
  },
  {
   "cell_type": "markdown",
   "id": "equivalent-exposure",
   "metadata": {},
   "source": [
    "And now IPv6, again skipping what is likely the most common prefix_length"
   ]
  },
  {
   "cell_type": "code",
   "execution_count": 14,
   "id": "filled-projection",
   "metadata": {},
   "outputs": [
    {
     "data": {
      "text/html": [
       "<div>\n",
       "<style scoped>\n",
       "    .dataframe tbody tr th:only-of-type {\n",
       "        vertical-align: middle;\n",
       "    }\n",
       "\n",
       "    .dataframe tbody tr th {\n",
       "        vertical-align: top;\n",
       "    }\n",
       "\n",
       "    .dataframe thead th {\n",
       "        text-align: right;\n",
       "    }\n",
       "</style>\n",
       "<table border=\"1\" class=\"dataframe\">\n",
       "  <thead>\n",
       "    <tr style=\"text-align: right;\">\n",
       "      <th></th>\n",
       "      <th>maxLength</th>\n",
       "      <th>af</th>\n",
       "      <th>prefix_length</th>\n",
       "    </tr>\n",
       "  </thead>\n",
       "  <tbody>\n",
       "    <tr>\n",
       "      <th>count</th>\n",
       "      <td>31927.000000</td>\n",
       "      <td>31927.0</td>\n",
       "      <td>31927.000000</td>\n",
       "    </tr>\n",
       "    <tr>\n",
       "      <th>mean</th>\n",
       "      <td>43.831146</td>\n",
       "      <td>6.0</td>\n",
       "      <td>41.246281</td>\n",
       "    </tr>\n",
       "    <tr>\n",
       "      <th>std</th>\n",
       "      <td>10.689522</td>\n",
       "      <td>0.0</td>\n",
       "      <td>8.413041</td>\n",
       "    </tr>\n",
       "    <tr>\n",
       "      <th>min</th>\n",
       "      <td>19.000000</td>\n",
       "      <td>6.0</td>\n",
       "      <td>19.000000</td>\n",
       "    </tr>\n",
       "    <tr>\n",
       "      <th>25%</th>\n",
       "      <td>36.000000</td>\n",
       "      <td>6.0</td>\n",
       "      <td>32.000000</td>\n",
       "    </tr>\n",
       "    <tr>\n",
       "      <th>50%</th>\n",
       "      <td>48.000000</td>\n",
       "      <td>6.0</td>\n",
       "      <td>44.000000</td>\n",
       "    </tr>\n",
       "    <tr>\n",
       "      <th>75%</th>\n",
       "      <td>48.000000</td>\n",
       "      <td>6.0</td>\n",
       "      <td>48.000000</td>\n",
       "    </tr>\n",
       "    <tr>\n",
       "      <th>max</th>\n",
       "      <td>128.000000</td>\n",
       "      <td>6.0</td>\n",
       "      <td>128.000000</td>\n",
       "    </tr>\n",
       "  </tbody>\n",
       "</table>\n",
       "</div>"
      ],
      "text/plain": [
       "          maxLength       af  prefix_length\n",
       "count  31927.000000  31927.0   31927.000000\n",
       "mean      43.831146      6.0      41.246281\n",
       "std       10.689522      0.0       8.413041\n",
       "min       19.000000      6.0      19.000000\n",
       "25%       36.000000      6.0      32.000000\n",
       "50%       48.000000      6.0      44.000000\n",
       "75%       48.000000      6.0      48.000000\n",
       "max      128.000000      6.0     128.000000"
      ]
     },
     "execution_count": 14,
     "metadata": {},
     "output_type": "execute_result"
    }
   ],
   "source": [
    "rpki_roas_v6.describe()"
   ]
  },
  {
   "cell_type": "code",
   "execution_count": 15,
   "id": "optimum-casting",
   "metadata": {},
   "outputs": [
    {
     "data": {
      "text/html": [
       "<div>\n",
       "<style scoped>\n",
       "    .dataframe tbody tr th:only-of-type {\n",
       "        vertical-align: middle;\n",
       "    }\n",
       "\n",
       "    .dataframe tbody tr th {\n",
       "        vertical-align: top;\n",
       "    }\n",
       "\n",
       "    .dataframe thead th {\n",
       "        text-align: right;\n",
       "    }\n",
       "</style>\n",
       "<table border=\"1\" class=\"dataframe\">\n",
       "  <thead>\n",
       "    <tr style=\"text-align: right;\">\n",
       "      <th></th>\n",
       "      <th>index</th>\n",
       "      <th>asn</th>\n",
       "      <th>prefix</th>\n",
       "      <th>maxLength</th>\n",
       "      <th>af</th>\n",
       "      <th>prefix_length</th>\n",
       "    </tr>\n",
       "  </thead>\n",
       "  <tbody>\n",
       "    <tr>\n",
       "      <th>0</th>\n",
       "      <td>50788</td>\n",
       "      <td>64098</td>\n",
       "      <td>2400:1240:4800::/38</td>\n",
       "      <td>38</td>\n",
       "      <td>6</td>\n",
       "      <td>38</td>\n",
       "    </tr>\n",
       "    <tr>\n",
       "      <th>1</th>\n",
       "      <td>153169</td>\n",
       "      <td>34924</td>\n",
       "      <td>2a0f:5707:aa00::/44</td>\n",
       "      <td>48</td>\n",
       "      <td>6</td>\n",
       "      <td>44</td>\n",
       "    </tr>\n",
       "    <tr>\n",
       "      <th>2</th>\n",
       "      <td>39150</td>\n",
       "      <td>45224</td>\n",
       "      <td>2406:c00:a48::/46</td>\n",
       "      <td>46</td>\n",
       "      <td>6</td>\n",
       "      <td>46</td>\n",
       "    </tr>\n",
       "    <tr>\n",
       "      <th>3</th>\n",
       "      <td>109714</td>\n",
       "      <td>5610</td>\n",
       "      <td>2a02:9b8::/31</td>\n",
       "      <td>31</td>\n",
       "      <td>6</td>\n",
       "      <td>31</td>\n",
       "    </tr>\n",
       "    <tr>\n",
       "      <th>4</th>\n",
       "      <td>110707</td>\n",
       "      <td>6805</td>\n",
       "      <td>2a02:3102:8000::/33</td>\n",
       "      <td>39</td>\n",
       "      <td>6</td>\n",
       "      <td>33</td>\n",
       "    </tr>\n",
       "  </tbody>\n",
       "</table>\n",
       "</div>"
      ],
      "text/plain": [
       "    index    asn               prefix  maxLength  af  prefix_length\n",
       "0   50788  64098  2400:1240:4800::/38         38   6             38\n",
       "1  153169  34924  2a0f:5707:aa00::/44         48   6             44\n",
       "2   39150  45224    2406:c00:a48::/46         46   6             46\n",
       "3  109714   5610        2a02:9b8::/31         31   6             31\n",
       "4  110707   6805  2a02:3102:8000::/33         39   6             33"
      ]
     },
     "metadata": {},
     "output_type": "display_data"
    }
   ],
   "source": [
    "sample = rpki_roas_v6[rpki_roas_v6.prefix_length != 48].sample(5).reset_index()\n",
    "display(sample)"
   ]
  },
  {
   "cell_type": "code",
   "execution_count": 16,
   "id": "generous-furniture",
   "metadata": {},
   "outputs": [
    {
     "data": {
      "text/plain": [
       "{RouteOriginAuthorization(asn='135888', prefix='2400:1240:4800::/38', max_length=38, prefix_length=38),\n",
       " RouteOriginAuthorization(asn='64098', prefix='2400:1240:4800::/38', max_length=38, prefix_length=38)}"
      ]
     },
     "execution_count": 16,
     "metadata": {},
     "output_type": "execute_result"
    }
   ],
   "source": [
    "roa_lookup_v6.trie[sample.prefix[0]]"
   ]
  },
  {
   "cell_type": "code",
   "execution_count": 17,
   "id": "relative-water",
   "metadata": {},
   "outputs": [
    {
     "data": {
      "text/plain": [
       "<AxesSubplot:ylabel='Frequency'>"
      ]
     },
     "execution_count": 17,
     "metadata": {},
     "output_type": "execute_result"
    },
    {
     "data": {
      "image/png": "[encoded data removed]",
      "text/plain": [
       "<Figure size 432x288 with 1 Axes>"
      ]
     },
     "metadata": {
      "needs_background": "light"
     },
     "output_type": "display_data"
    }
   ],
   "source": [
    "rpki_roas_v6[['maxLength', 'prefix_length']].plot.hist(\n",
    "    by='maxLength',\n",
    "    bins=32,\n",
    "    alpha=0.5\n",
    ")"
   ]
  },
  {
   "cell_type": "markdown",
   "id": "incorporated-mouse",
   "metadata": {},
   "source": [
    "All data has been collected."
   ]
  },
  {
   "cell_type": "code",
   "execution_count": 18,
   "id": "continuous-cookbook",
   "metadata": {},
   "outputs": [
    {
     "data": {
      "text/html": [
       "<div>\n",
       "<style scoped>\n",
       "    .dataframe tbody tr th:only-of-type {\n",
       "        vertical-align: middle;\n",
       "    }\n",
       "\n",
       "    .dataframe tbody tr th {\n",
       "        vertical-align: top;\n",
       "    }\n",
       "\n",
       "    .dataframe thead th {\n",
       "        text-align: right;\n",
       "    }\n",
       "</style>\n",
       "<table border=\"1\" class=\"dataframe\">\n",
       "  <thead>\n",
       "    <tr style=\"text-align: right;\">\n",
       "      <th></th>\n",
       "      <th>origin</th>\n",
       "      <th>prefix</th>\n",
       "      <th>seen_by_peers</th>\n",
       "      <th>prefix_length</th>\n",
       "    </tr>\n",
       "  </thead>\n",
       "  <tbody>\n",
       "    <tr>\n",
       "      <th>16</th>\n",
       "      <td>174</td>\n",
       "      <td>0.0.0.0/0</td>\n",
       "      <td>5.0</td>\n",
       "      <td>0</td>\n",
       "    </tr>\n",
       "    <tr>\n",
       "      <th>17</th>\n",
       "      <td>55720</td>\n",
       "      <td>0.0.0.0/0</td>\n",
       "      <td>2.0</td>\n",
       "      <td>0</td>\n",
       "    </tr>\n",
       "    <tr>\n",
       "      <th>18</th>\n",
       "      <td>30823</td>\n",
       "      <td>0.0.0.0/0</td>\n",
       "      <td>1.0</td>\n",
       "      <td>0</td>\n",
       "    </tr>\n",
       "    <tr>\n",
       "      <th>19</th>\n",
       "      <td>3356</td>\n",
       "      <td>0.0.0.0/0</td>\n",
       "      <td>2.0</td>\n",
       "      <td>0</td>\n",
       "    </tr>\n",
       "    <tr>\n",
       "      <th>20</th>\n",
       "      <td>50628</td>\n",
       "      <td>0.0.0.0/0</td>\n",
       "      <td>2.0</td>\n",
       "      <td>0</td>\n",
       "    </tr>\n",
       "    <tr>\n",
       "      <th>...</th>\n",
       "      <td>...</td>\n",
       "      <td>...</td>\n",
       "      <td>...</td>\n",
       "      <td>...</td>\n",
       "    </tr>\n",
       "    <tr>\n",
       "      <th>1000064</th>\n",
       "      <td>63199</td>\n",
       "      <td>223.255.250.0/24</td>\n",
       "      <td>327.0</td>\n",
       "      <td>24</td>\n",
       "    </tr>\n",
       "    <tr>\n",
       "      <th>1000065</th>\n",
       "      <td>63199</td>\n",
       "      <td>223.255.251.0/24</td>\n",
       "      <td>327.0</td>\n",
       "      <td>24</td>\n",
       "    </tr>\n",
       "    <tr>\n",
       "      <th>1000066</th>\n",
       "      <td>58519</td>\n",
       "      <td>223.255.252.0/24</td>\n",
       "      <td>330.0</td>\n",
       "      <td>24</td>\n",
       "    </tr>\n",
       "    <tr>\n",
       "      <th>1000067</th>\n",
       "      <td>58519</td>\n",
       "      <td>223.255.253.0/24</td>\n",
       "      <td>330.0</td>\n",
       "      <td>24</td>\n",
       "    </tr>\n",
       "    <tr>\n",
       "      <th>1000068</th>\n",
       "      <td>55415</td>\n",
       "      <td>223.255.254.0/24</td>\n",
       "      <td>387.0</td>\n",
       "      <td>24</td>\n",
       "    </tr>\n",
       "  </tbody>\n",
       "</table>\n",
       "<p>1000053 rows × 4 columns</p>\n",
       "</div>"
      ],
      "text/plain": [
       "        origin            prefix  seen_by_peers  prefix_length\n",
       "16         174         0.0.0.0/0            5.0              0\n",
       "17       55720         0.0.0.0/0            2.0              0\n",
       "18       30823         0.0.0.0/0            1.0              0\n",
       "19        3356         0.0.0.0/0            2.0              0\n",
       "20       50628         0.0.0.0/0            2.0              0\n",
       "...        ...               ...            ...            ...\n",
       "1000064  63199  223.255.250.0/24          327.0             24\n",
       "1000065  63199  223.255.251.0/24          327.0             24\n",
       "1000066  58519  223.255.252.0/24          330.0             24\n",
       "1000067  58519  223.255.253.0/24          330.0             24\n",
       "1000068  55415  223.255.254.0/24          387.0             24\n",
       "\n",
       "[1000053 rows x 4 columns]"
      ]
     },
     "execution_count": 18,
     "metadata": {},
     "output_type": "execute_result"
    }
   ],
   "source": [
    "ris_v4"
   ]
  },
  {
   "cell_type": "code",
   "execution_count": 32,
   "id": "unknown-windows",
   "metadata": {},
   "outputs": [
    {
     "name": "stdout",
     "output_type": "stream",
     "text": [
      "origin                     55720\n",
      "prefix           103.244.1.50/32\n",
      "seen_by_peers                2.0\n",
      "prefix_length                 32\n",
      "Name: 369210, dtype: object\n",
      "RouteOriginAuthorization(asn='55720', prefix='103.244.1.0/24', max_length=24, prefix_length=24)\n"
     ]
    },
    {
     "data": {
      "text/plain": [
       "369210    invalid\n",
       "dtype: object"
      ]
     },
     "execution_count": 32,
     "metadata": {},
     "output_type": "execute_result"
    }
   ],
   "source": [
    "def rpki_status_v4(ris_entry: Series) -> str:\n",
    "    print(ris_entry)\n",
    "    # Lookup entry in patricia trie\n",
    "    roas = roa_lookup_v4.lookup_roas(ris_entry.prefix)\n",
    "    if not roas:\n",
    "        return 'unknown'\n",
    "    \n",
    "    # Match roas, to match, they need to:\n",
    "    # * have the same AS as the ROA\n",
    "    # * have a prefix length <= maxLength\n",
    "    was_valid = False\n",
    "    for roa in roas:\n",
    "        print(roa)\n",
    "        if roa.asn != ris_entry.origin:\n",
    "            LOG.info(\"invalid as: %s ris origin: %d for %s\", roa, ris_entry.origin, ris_entry.prefix)\n",
    "        else:\n",
    "            assert roa.prefix_length <= ris_entry.prefix_length\n",
    "            if roa.max_length >= ris_entry.prefix_length:\n",
    "                LOG.info(\"valid roa: %s for %s announced by %s\", roa, ris_entry.prefix, ris_entry.origin)\n",
    "                was_valid = True\n",
    "            else:\n",
    "                LOG.info(\"invalid length: %s does not match %s\", ris_entry.prefix)\n",
    "        \n",
    "    return 'valid' if was_valid else 'invalid'\n",
    "\n",
    "ris_v4.sample(1).apply(rpki_status_v4, axis=1)"
   ]
  },
  {
   "cell_type": "code",
   "execution_count": null,
   "id": "fifth-bronze",
   "metadata": {},
   "outputs": [],
   "source": []
  },
  {
   "cell_type": "code",
   "execution_count": null,
   "id": "billion-farmer",
   "metadata": {},
   "outputs": [],
   "source": []
  }
 ],
 "metadata": {
  "kernelspec": {
   "display_name": "Python 3",
   "language": "python",
   "name": "python3"
  },
  "language_info": {
   "codemirror_mode": {
    "name": "ipython",
    "version": 3
   },
   "file_extension": ".py",
   "mimetype": "text/x-python",
   "name": "python",
   "nbconvert_exporter": "python",
   "pygments_lexer": "ipython3",
   "version": "3.9.1"
  }
 },
 "nbformat": 4,
 "nbformat_minor": 5
}
